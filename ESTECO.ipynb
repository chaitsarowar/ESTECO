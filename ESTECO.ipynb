{
 "cells": [
  {
   "cell_type": "code",
   "execution_count": 1,
   "id": "0503743d",
   "metadata": {},
   "outputs": [],
   "source": [
    "import re\n",
    "\n",
    "def add(numbers):\n",
    "    if not numbers:\n",
    "        return \"0\"\n",
    "    \n",
    "    numbers = numbers.replace(\"\\n\", \",\")  # Replace newlines with commas\n",
    "    \n",
    "    # Use regular expression to find any non-numeric characters\n",
    "    invalid_chars = re.findall(r\"[^\\d.,]\", numbers)\n",
    "    if invalid_chars:\n",
    "        invalid_char = invalid_chars[0]\n",
    "        return f\"Invalid input: '{invalid_char}' found\"\n",
    "    \n",
    "    nums = re.findall(r\"[-+]?\\d*\\.?\\d+\", numbers)  # Extract numbers using regex\n",
    "    \n",
    "    if numbers[-1] == \",\":\n",
    "        return \"Number expected but EOF found\"\n",
    "    \n",
    "    try:\n",
    "        total = sum(float(num) for num in nums)\n",
    "        return str(total)\n",
    "    except ValueError:\n",
    "        return \"Invalid input\"\n"
   ]
  },
  {
   "cell_type": "code",
   "execution_count": null,
   "id": "81b6e76f",
   "metadata": {},
   "outputs": [],
   "source": []
  }
 ],
 "metadata": {
  "kernelspec": {
   "display_name": "Python 3 (ipykernel)",
   "language": "python",
   "name": "python3"
  },
  "language_info": {
   "codemirror_mode": {
    "name": "ipython",
    "version": 3
   },
   "file_extension": ".py",
   "mimetype": "text/x-python",
   "name": "python",
   "nbconvert_exporter": "python",
   "pygments_lexer": "ipython3",
   "version": "3.10.9"
  }
 },
 "nbformat": 4,
 "nbformat_minor": 5
}
